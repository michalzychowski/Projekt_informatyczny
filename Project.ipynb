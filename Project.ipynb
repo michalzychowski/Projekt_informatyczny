{
 "cells": [
  {
   "cell_type": "markdown",
   "id": "6d7bc38c",
   "metadata": {},
   "source": [
    "# Skrypt do predykcji danych demograficznych oparty o dane historyczne GUS"
   ]
  },
  {
   "cell_type": "markdown",
   "id": "dd66ddf1",
   "metadata": {},
   "source": [
    "## Zaimportowanie bibliotek"
   ]
  },
  {
   "cell_type": "code",
   "execution_count": 2,
   "id": "8bb2773c-7ba3-4924-815c-a197aa7d8a4f",
   "metadata": {},
   "outputs": [],
   "source": [
    "import requests as rq\n",
    "\n",
    "import numpy as np\n",
    "import pandas as pd\n",
    "\n",
    "import matplotlib as mpl\n",
    "import matplotlib.pyplot as plt\n",
    "\n",
    "import seaborn as sns\n",
    "import seaborn.objects as so\n",
    "\n",
    "import sklearn\n",
    "from sklearn.model_selection import train_test_split\n",
    "from sklearn.tree import DecisionTreeRegressor, plot_tree\n",
    "from sklearn.metrics import mean_squared_error\n",
    "\n",
    "from ipywidgets import interact, Checkbox, VBox\n",
    "from IPython.display import display\n"
   ]
  },
  {
   "cell_type": "markdown",
   "id": "47a02bea",
   "metadata": {},
   "source": [
    "## Zaimportowanie danych z API GUS"
   ]
  },
  {
   "cell_type": "markdown",
   "id": "d87b67b8",
   "metadata": {},
   "source": [
    "Zaimportowanie danych z API GUS Portal z API BDL."
   ]
  },
  {
   "cell_type": "code",
   "execution_count": null,
   "id": "4cfd7fae-5051-4b0c-95a9-65e718fe2a5d",
   "metadata": {},
   "outputs": [],
   "source": [
    "data = {\n",
    "    \"Area\": [\n",
    "        \"Polska\", \"Małopolskie\", \"Śląskie\", \"Lubuskie\", \"Wielkopolskie\",\n",
    "        \"Zachodniopomorskie\", \"Dolnośląskie\", \"Opolskie\", \"Kujawsko-Pomorskie\",\n",
    "        \"Pomorskie\", \"Warmińsko-Mazurskie\", \"Łódzkie\", \"Świętokrzyskie\",\n",
    "        \"Lubelskie\", \"Podkarpackie\", \"Podlaskie\", \"Mazowieckie\"\n",
    "    ],\n",
    "    \"Code\": [\n",
    "        \"000000000000\", \"011200000000\", \"012400000000\", \"020800000000\",\n",
    "        \"023000000000\", \"023200000000\", \"030200000000\", \"031600000000\",\n",
    "        \"040400000000\", \"042200000000\", \"042800000000\", \"051000000000\",\n",
    "        \"052600000000\", \"060600000000\", \"061800000000\", \"062000000000\",\n",
    "        \"071400000000\"\n",
    "    ]\n",
    "}\n",
    "\n",
    "data2 = {\n",
    "    \"category_code\": [\n",
    "        \"ludnosc_na_1_km2\", #1\n",
    "        \"ludnosc_w_tysiacach\",#2\n",
    "        \"wskaznik_urbanizacji\",#3\n",
    "        \"liczba_ludnosci_ogolem\",#4\n",
    "        \"liczba_ludnosci_ogolem_mezczyzni\",#5\n",
    "        \"liczba_ludnosci_ogolem_kobiety\",#6\n",
    "        \"mediana_wieku_ludnosci_ogolem\",#7\n",
    "        \"mediana_wieku_ludnosci_mezczyzni\",#8\n",
    "        \"mediana_wieku_ludnosci_kobiety\",#9\n",
    "        \"ludnosc_w_wieku_nieprodukcyjnym_na_100_osob_w_wieku_produkcyjnym\",#10\n",
    "        \"wspolczynnik_obciazenia_demograficznego_osobami_starszymi\",#11\n",
    "        \"zgony_ogolem\",#12\n",
    "        \"zgony_mezczyzni_ogolem\",#13\n",
    "        \"zgony_kobiety_ogolem\",#14\n",
    "        \"urodzenia_zywe_na_1000_ludnosci\",#15\n",
    "        \"zgony_na_1000_ludnosci\",#16\n",
    "        \"przyrost_naturalny_na_1000_ludnosci\",#17\n",
    "    ],\n",
    "    \"values\": [\n",
    "        60559,#1\n",
    "        1645341,#2\n",
    "        1725015,#3\n",
    "        72305,#4\n",
    "        72300,#5\n",
    "        72295,#6\n",
    "        746289,#7\n",
    "        746290,#8\n",
    "        746291,#9\n",
    "        60563,#10\n",
    "        634067,#11\n",
    "        3231,#12\n",
    "        30149,#13\n",
    "        30165,#14\n",
    "        450540,#15\n",
    "        450541,#16\n",
    "        450551,#17\n",
    "    ]\n",
    "}\n",
    "\n",
    "\n",
    "#nie działa do końca\n",
    "checkboxes = [Checkbox(description=area, value=True) for area in data[\"Area\"]]\n",
    "checkboxes_container = VBox(checkboxes)\n",
    "\n",
    "display(checkboxes_container)\n",
    "\n",
    "def handle_checkbox_change(change):\n",
    "    selected_areas = [checkbox.description for checkbox in checkboxes if checkbox.value]\n",
    "    print(\"Selected areas:\", selected_areas)\n",
    "\n",
    "for checkbox in checkboxes:\n",
    "    checkbox.observe(handle_checkbox_change, names='value')"
   ]
  },
  {
   "cell_type": "code",
   "execution_count": null,
   "id": "d6eaf263",
   "metadata": {},
   "outputs": [],
   "source": [
    "single_frames = []\n",
    "my_params = {'lang': 'pl', 'format': 'json', 'var-id': None}\n",
    "for area, code in zip(data['Area'], data['Code']):\n",
    "    area_frames = f\"{area}\".replace(\" \", \"_\")\n",
    "    locals()[area_frames] = []\n",
    "    for category_code, value in zip(data2['category_code'], data2['values']):\n",
    "        my_params['var-id'] = value\n",
    "        response = rq.get(f'https://bdl.stat.gov.pl/api/v1/data/by-unit/{code}', params=my_params)\n",
    "        output = response.json()\n",
    "        df_name = f\"{category_code}_{area}\".replace(\" \", \"_\")\n",
    "        locals()[df_name] = pd.DataFrame(output['results'][0]['values'], columns=['year', 'val'])\n",
    "        locals()[df_name] = locals()[df_name].rename(columns={\"val\":f\"{category_code}\"})\n",
    "        locals()[area_frames].append(locals()[df_name])\n",
    "        print(f\"Pobieranie danych: {category_code} dla: {area}\") #poprawić liczba pobranych z całości (Zaimportowano x z 289)\n",
    "    single_frames.append(locals()[area_frames])"
   ]
  },
  {
   "cell_type": "code",
   "execution_count": 4,
   "id": "6ccecaf4",
   "metadata": {},
   "outputs": [],
   "source": [
    "frames = {}\n",
    "for index, area in enumerate(single_frames):\n",
    "    wframe = pd.DataFrame()\n",
    "    for frame in area:\n",
    "        if wframe.empty:\n",
    "            wframe = frame\n",
    "        else:\n",
    "            wframe = wframe.merge(frame, on='year', how='outer')\n",
    "    \n",
    "    area_name = data[\"Area\"][index]\n",
    "    frames[area_name] = wframe"
   ]
  },
  {
   "cell_type": "code",
   "execution_count": null,
   "id": "d05c05e0",
   "metadata": {},
   "outputs": [],
   "source": [
    "print(frames)"
   ]
  },
  {
   "cell_type": "markdown",
   "id": "d65432d0",
   "metadata": {},
   "source": [
    "## Korelacja danych"
   ]
  },
  {
   "cell_type": "markdown",
   "id": "e586a481",
   "metadata": {},
   "source": [
    "Tworzymy diagram korelacji dla naszych danych."
   ]
  },
  {
   "cell_type": "code",
   "execution_count": null,
   "id": "32883e66",
   "metadata": {},
   "outputs": [],
   "source": [
    "for frame in frames:\n",
    "    corelacion_data = frames[frame].corr()\n",
    "    plt.figure(figsize=(16,14))\n",
    "    sns.heatmap(corelacion_data, annot=True, cmap=\"coolwarm\", vmin=-1, vmax=1)\n",
    "    plt.title(f\"Diagram korelacji dla {frame}\")\n",
    "    plt.show()"
   ]
  },
  {
   "cell_type": "markdown",
   "id": "72088d64",
   "metadata": {},
   "source": [
    "## Wybór i tworzenie modelu"
   ]
  },
  {
   "cell_type": "markdown",
   "id": "683d3985",
   "metadata": {},
   "source": [
    "### Drzewa decyzyjne"
   ]
  },
  {
   "cell_type": "markdown",
   "id": "1ccb64aa",
   "metadata": {},
   "source": [
    "Tworzenie drzew decyzyjnych dla każdego województwa"
   ]
  },
  {
   "cell_type": "code",
   "execution_count": null,
   "id": "74e148fa",
   "metadata": {},
   "outputs": [],
   "source": [
    "predictions = {}\n",
    "for key,df in frames.items():\n",
    "    print(\"Drzewo decyzyjne dla: \", key)\n",
    "    frame = df.drop(columns=\"year\", axis = 1)\n",
    "    frame = frame.fillna(frame.mean())\n",
    "    x = frame.drop(\"liczba_ludnosci_ogolem\", axis = 1)\n",
    "    y= frame[\"liczba_ludnosci_ogolem\"]\n",
    "    X_train, X_test, y_train, y_test = train_test_split(x, y, test_size=0.2, random_state=42)\n",
    "    model = DecisionTreeRegressor()\n",
    "    model.fit(X_train, y_train)\n",
    "    prediction = model.predict(X_test)\n",
    "    data = {\"original data\": y_test, \"predictions\": prediction}\n",
    "    df = pd.DataFrame(data)\n",
    "    predictions[key] = df\n",
    "    mse = mean_squared_error(y_test, prediction)\n",
    "    print(f'Mean Squared Error: {mse}')\n",
    "    plt.figure(figsize=(20, 10), dpi=600)\n",
    "    plot_tree(model, filled=True, feature_names=x.columns)\n",
    "    plt.show()"
   ]
  },
  {
   "cell_type": "markdown",
   "id": "8dd4a0cf",
   "metadata": {},
   "source": [
    "## Ewaluacja modelu"
   ]
  },
  {
   "cell_type": "markdown",
   "id": "6a9f807b",
   "metadata": {},
   "source": [
    "Ocenimy teraz jakość naszych modeli."
   ]
  },
  {
   "cell_type": "code",
   "execution_count": null,
   "id": "03d6fe93",
   "metadata": {},
   "outputs": [],
   "source": [
    "print(len(predictions))\n",
    "for key,df in predictions.items():\n",
    "    df[\"error\"] = df[\"original data\"]-df[\"predictions\"]\n",
    "    df =df.sort_index()\n",
    "    print (df)\n",
    "    print(f\"Średni błąd: {df['error'].mean()}\")\n",
    "    positions = range(len(df))\n",
    "    x = df.index\n",
    "    y_original = df['original data']\n",
    "    y_predicted = df['predictions']\n",
    "    plt.figure(figsize=(10, 6))\n",
    "    plt.plot(x, y_original, marker='o', linestyle='-', color='b', label='Original')\n",
    "    plt.plot(x, y_predicted, marker='s', linestyle='--', color='r', label='Predicted')\n",
    "    plt.xlabel('X-axis label')\n",
    "    plt.ylabel('Y-axis label')\n",
    "    plt.title(f'Original vs. Predicted Data {key}')\n",
    "    plt.legend()\n",
    "    plt.grid(True)\n",
    "    plt.show()"
   ]
  }
 ],
 "metadata": {
  "kernelspec": {
   "display_name": "Python 3 (ipykernel)",
   "language": "python",
   "name": "python3"
  },
  "language_info": {
   "codemirror_mode": {
    "name": "ipython",
    "version": 3
   },
   "file_extension": ".py",
   "mimetype": "text/x-python",
   "name": "python",
   "nbconvert_exporter": "python",
   "pygments_lexer": "ipython3",
   "version": "3.12.1"
  }
 },
 "nbformat": 4,
 "nbformat_minor": 5
}
